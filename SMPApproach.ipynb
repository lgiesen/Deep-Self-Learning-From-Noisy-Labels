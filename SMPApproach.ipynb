{
  "cells": [
    {
      "cell_type": "markdown",
      "metadata": {
        "id": "mwzqNd1Vg4wi"
      },
      "source": [
        "## Load the Data"
      ]
    },
    {
      "cell_type": "markdown",
      "metadata": {
        "id": "8wtdbnguQ4aY"
      },
      "source": [
        "Mount Google Drive to access data and other repo files"
      ]
    },
    {
      "cell_type": "code",
      "execution_count": 2,
      "metadata": {
        "colab": {
          "base_uri": "https://localhost:8080/"
        },
        "id": "YjKkw5H68gM0",
        "outputId": "31ad10c8-4340-44e0-c54e-45dfa7aab47e"
      },
      "outputs": [
        {
          "output_type": "stream",
          "name": "stdout",
          "text": [
            "Mounted at /content/drive\n"
          ]
        }
      ],
      "source": [
        "from google.colab import drive\n",
        "drive.mount('/content/drive', force_remount=True)"
      ]
    },
    {
      "cell_type": "markdown",
      "metadata": {
        "id": "3bfgRV3ZQ8tX"
      },
      "source": [
        "Set the seed for reproducability"
      ]
    },
    {
      "cell_type": "code",
      "execution_count": 3,
      "metadata": {
        "id": "JD7I8qKXQ38W"
      },
      "outputs": [],
      "source": [
        "import torch\n",
        "import numpy as np\n",
        "import random\n",
        "\n",
        "def set_seed(seed):\n",
        "    random.seed(seed)\n",
        "    np.random.seed(seed)\n",
        "    torch.manual_seed(seed)\n",
        "    if torch.cuda.is_available():\n",
        "        torch.cuda.manual_seed(seed)\n",
        "        torch.cuda.manual_seed_all(seed)  # if you are using multi-GPU.\n",
        "    torch.backends.cudnn.deterministic = True\n",
        "    torch.backends.cudnn.benchmark = False\n",
        "\n",
        "set_seed(42)"
      ]
    },
    {
      "cell_type": "markdown",
      "metadata": {
        "id": "xUjGGMxp_4H_"
      },
      "source": [
        "Delete redundant sample data from Google Colab's session"
      ]
    },
    {
      "cell_type": "code",
      "execution_count": 4,
      "metadata": {
        "colab": {
          "base_uri": "https://localhost:8080/"
        },
        "id": "g46yhAoyLeuB",
        "outputId": "87744778-5184-42e2-c5a6-9b3b38b0315f"
      },
      "outputs": [
        {
          "output_type": "stream",
          "name": "stdout",
          "text": [
            "Folder 'sample_data' has been deleted.\n"
          ]
        }
      ],
      "source": [
        "import shutil\n",
        "import os\n",
        "\n",
        "def delete_folder(folder_path):\n",
        "    if os.path.exists(folder_path):\n",
        "        shutil.rmtree(folder_path)\n",
        "        print(f\"Folder '{folder_path}' has been deleted.\")\n",
        "    else:\n",
        "        print(f\"Folder '{folder_path}' does not exist.\")\n",
        "\n",
        "delete_folder('sample_data')\n"
      ]
    },
    {
      "cell_type": "markdown",
      "metadata": {
        "id": "9v77OIPU_4IB"
      },
      "source": [
        "Clone the repository to access the other relevant files"
      ]
    },
    {
      "cell_type": "code",
      "execution_count": 5,
      "metadata": {
        "colab": {
          "base_uri": "https://localhost:8080/"
        },
        "id": "ezFpCBHn9-Xl",
        "outputId": "ad7a560b-422a-49db-e71b-f08a0d7742bb"
      },
      "outputs": [
        {
          "output_type": "stream",
          "name": "stdout",
          "text": [
            "Cloning into 'Deep-Self-Learning-From-Noisy-Labels'...\n",
            "remote: Enumerating objects: 182, done.\u001b[K\n",
            "remote: Counting objects: 100% (182/182), done.\u001b[K\n",
            "remote: Compressing objects: 100% (121/121), done.\u001b[K\n",
            "remote: Total 182 (delta 102), reused 137 (delta 61), pack-reused 0\u001b[K\n",
            "Receiving objects: 100% (182/182), 4.23 MiB | 9.21 MiB/s, done.\n",
            "Resolving deltas: 100% (102/102), done.\n",
            "/content/Deep-Self-Learning-From-Noisy-Labels\n"
          ]
        }
      ],
      "source": [
        "# clone the repo\n",
        "!git clone https://github.com/lgiesen/Deep-Self-Learning-From-Noisy-Labels.git\n",
        "\n",
        "# go to directory\n",
        "%cd Deep-Self-Learning-From-Noisy-Labels"
      ]
    },
    {
      "cell_type": "markdown",
      "metadata": {
        "id": "vyXJNDnV_4IE"
      },
      "source": [
        "Define the dataset"
      ]
    },
    {
      "cell_type": "code",
      "execution_count": 6,
      "metadata": {
        "colab": {
          "base_uri": "https://localhost:8080/"
        },
        "id": "JJGD8fw88gM5",
        "outputId": "68180b36-50f3-4770-eb89-4afb8399b1f7"
      },
      "outputs": [
        {
          "output_type": "stream",
          "name": "stdout",
          "text": [
            "/\n"
          ]
        }
      ],
      "source": [
        "from config import batch_size, dataset_test_path, dataset_train_path, dataset_val_path\n",
        "from LoadDataset import CustomImageDataset\n",
        "from torch.utils.data import DataLoader\n",
        "from torchvision import transforms\n",
        "\n",
        "# Define the transformations\n",
        "transform = transforms.Compose([\n",
        "    transforms.Resize(256),\n",
        "    transforms.RandomCrop(224),\n",
        "    transforms.ToTensor(),\n",
        "    transforms.Normalize(mean=[0.485, 0.456, 0.406], std=[0.229, 0.224, 0.225]),\n",
        "    # \"These exact values are used for normalizing data that has been pre-trained\n",
        "    # on the ImageNet dataset. They are based on the statistics of the ImageNet\n",
        "    # dataset, which consists of a large number of natural images.\"\n",
        "    # https://moiseevigor.github.io/software/2022/12/18/one-pager-training-resnet-on-imagenet/\n",
        "\n",
        "])\n",
        "\n",
        "# Create datasets\n",
        "train_dataset = CustomImageDataset(file_path=dataset_train_path, transform=transform)\n",
        "val_dataset = CustomImageDataset(file_path=dataset_val_path, transform=transform)\n",
        "test_dataset = CustomImageDataset(file_path=dataset_test_path, transform=transform)\n",
        "\n",
        "# Create data loaders\n",
        "# pinned memory can significantly speed up the transfer of data between the host and the device (GPU) because the GPU can directly access it\n",
        "train_loader = DataLoader(train_dataset, batch_size=batch_size, shuffle=True, pin_memory=True)\n",
        "val_loader = DataLoader(val_dataset, batch_size=batch_size, shuffle=False)\n",
        "test_loader = DataLoader(test_dataset, batch_size=batch_size, shuffle=False)\n",
        "\n",
        "%cd ../../"
      ]
    },
    {
      "cell_type": "markdown",
      "metadata": {
        "id": "KzDPbook_4IF"
      },
      "source": [
        "Extract the image files"
      ]
    },
    {
      "cell_type": "code",
      "execution_count": 7,
      "metadata": {
        "colab": {
          "base_uri": "https://localhost:8080/"
        },
        "id": "OGoMbLEw20XY",
        "outputId": "e4a5f7a9-9883-478a-ef7b-1644c0633ffb"
      },
      "outputs": [
        {
          "output_type": "stream",
          "name": "stdout",
          "text": [
            "Extracted /content/drive/MyDrive/Colab_Notebooks/Deep_Self_Learning_From_Noisy_Labels/images/3.tar to ../drive/MyDrive/Colab_Notebooks/Deep_Self_Learning_From_Noisy_Labels/extracted_images/\n",
            "Extracted /content/drive/MyDrive/Colab_Notebooks/Deep_Self_Learning_From_Noisy_Labels/images/1.tar to ../drive/MyDrive/Colab_Notebooks/Deep_Self_Learning_From_Noisy_Labels/extracted_images/\n",
            "Extracted /content/drive/MyDrive/Colab_Notebooks/Deep_Self_Learning_From_Noisy_Labels/images/0.tar to ../drive/MyDrive/Colab_Notebooks/Deep_Self_Learning_From_Noisy_Labels/extracted_images/\n",
            "Extracted /content/drive/MyDrive/Colab_Notebooks/Deep_Self_Learning_From_Noisy_Labels/images/2.tar to ../drive/MyDrive/Colab_Notebooks/Deep_Self_Learning_From_Noisy_Labels/extracted_images/\n",
            "Extracted /content/drive/MyDrive/Colab_Notebooks/Deep_Self_Learning_From_Noisy_Labels/images/5.tar to ../drive/MyDrive/Colab_Notebooks/Deep_Self_Learning_From_Noisy_Labels/extracted_images/\n",
            "Extracted /content/drive/MyDrive/Colab_Notebooks/Deep_Self_Learning_From_Noisy_Labels/images/9.tar to ../drive/MyDrive/Colab_Notebooks/Deep_Self_Learning_From_Noisy_Labels/extracted_images/\n",
            "Extracted /content/drive/MyDrive/Colab_Notebooks/Deep_Self_Learning_From_Noisy_Labels/images/6.tar to ../drive/MyDrive/Colab_Notebooks/Deep_Self_Learning_From_Noisy_Labels/extracted_images/\n",
            "Extracted /content/drive/MyDrive/Colab_Notebooks/Deep_Self_Learning_From_Noisy_Labels/images/4.tar to ../drive/MyDrive/Colab_Notebooks/Deep_Self_Learning_From_Noisy_Labels/extracted_images/\n",
            "Extracted /content/drive/MyDrive/Colab_Notebooks/Deep_Self_Learning_From_Noisy_Labels/images/8.tar to ../drive/MyDrive/Colab_Notebooks/Deep_Self_Learning_From_Noisy_Labels/extracted_images/\n",
            "Extracted /content/drive/MyDrive/Colab_Notebooks/Deep_Self_Learning_From_Noisy_Labels/images/7.tar to ../drive/MyDrive/Colab_Notebooks/Deep_Self_Learning_From_Noisy_Labels/extracted_images/\n",
            "The extracted tar files should result in the folders 0 to 9:\n",
            "0  1  2  3  4  5  6  7\t8  9\n",
            "CPU times: user 3min 52s, sys: 6min 21s, total: 10min 14s\n",
            "Wall time: 5min 58s\n"
          ]
        }
      ],
      "source": [
        "%%time\n",
        "import tarfile\n",
        "import os\n",
        "from config import shared_folder_path, dataset_img\n",
        "\n",
        "# Function to extract and process files\n",
        "def extract_and_process(tar_file_path, extract_to):\n",
        "    with tarfile.open(tar_file_path, 'r') as tar_ref:\n",
        "        tar_ref.extractall(extract_to)\n",
        "        print(f\"Extracted {tar_file_path} to {extract_to}\")\n",
        "\n",
        "parallel_extraction = True\n",
        "\n",
        "from concurrent.futures import ThreadPoolExecutor\n",
        "\n",
        "# Function to extract and process files\n",
        "def extract_and_process(tar_file_path, extract_to):\n",
        "    with tarfile.open(tar_file_path, 'r') as tar_ref:\n",
        "        tar_ref.extractall(extract_to)\n",
        "        print(f\"Extracted {tar_file_path} to {extract_to}\")\n",
        "\n",
        "# Create the extraction directory if it doesn't exist\n",
        "os.makedirs(dataset_img, exist_ok=True)\n",
        "\n",
        "# List of tar files to extract\n",
        "tar_files = [os.path.join(shared_folder_path, f\"{i}.tar\") for i in range(10)]\n",
        "\n",
        "# Function to handle extraction in parallel\n",
        "def extract_tar_files_parallel(tar_files, extract_to):\n",
        "    with ThreadPoolExecutor() as executor:\n",
        "        futures = [executor.submit(extract_and_process, tar_file, extract_to) for tar_file in tar_files if os.path.exists(tar_file)]\n",
        "        for future in futures:\n",
        "            try:\n",
        "                future.result()  # Wait for the result to ensure any exceptions are raised\n",
        "            except Exception as e:\n",
        "                print(f\"An error occurred: {e}\")\n",
        "\n",
        "# Extract tar files in parallel\n",
        "extract_tar_files_parallel(tar_files, dataset_img)\n",
        "print(\"The extracted tar files should result in the folders 0 to 9:\")\n",
        "!ls \"{dataset_img}\""
      ]
    },
    {
      "cell_type": "code",
      "source": [
        "from config import dataset\n",
        "import pandas as pd\n",
        "def get_data():\n",
        "    # Calculate the balanced class weights because of an imbalanced dataset\n",
        "    # Read the data again for higher efficiency\n",
        "    data = pd.read_csv(dataset.replace(\"../\",\"/content/\"), header=None, sep=' ', names=['image', 'label'])\n",
        "    # Convert the labels to a numpy array\n",
        "    images = data['image'].values\n",
        "    labels = data['label'].values\n",
        "    return images, labels"
      ],
      "metadata": {
        "id": "ipPD-_Hgsf4t"
      },
      "execution_count": 10,
      "outputs": []
    },
    {
      "cell_type": "code",
      "source": [
        "from config import randomly_sampled_img_count, dataset_sample_path\n",
        "def sample_images(class_id, num_samples=randomly_sampled_img_count):\n",
        "    \"\"\"\n",
        "    This function randomly samples 1280 images for each of the 14 classes\n",
        "    from the original noisy dataset (cf. Fig. 3 of \"Deep Self-Learning From Noisy Labels\").\n",
        "    The sampled_images is a list of has a shape of 17.920 image paths.\n",
        "    Output: DataLoader\n",
        "    \"\"\"\n",
        "    # Split the dataset into images and labels\n",
        "    images, labels = get_data()\n",
        "\n",
        "    # Initialize a list to collect sampled images\n",
        "    sampled_images = []\n",
        "    # Get indices of images corresponding to the current class\n",
        "    class_indices = (labels == class_id).nonzero()[0]\n",
        "\n",
        "    # Randomly sample the required number of images for this class\n",
        "    sampled_indices = torch.randperm(len(class_indices))[:num_samples]\n",
        "\n",
        "    # Collect the sampled images\n",
        "    sampled_class_images = images[class_indices[sampled_indices]]\n",
        "\n",
        "    # Convert the array to a list of strings with \" -1\" appended to each\n",
        "    #sampled_class_images = [f\"{item} -1\" for item in sampled_class_images]\n",
        "    sampled_class_images = np.char.replace(list(sampled_class_images), \"images\", \"extracted_images\")\n",
        "\n",
        "    # Export the samples to CSV to create a loader just like for the datasets\n",
        "    pd.DataFrame(sampled_class_images).to_csv(dataset_sample_path, sep=' ', index=False, header=False)\n",
        "    sample_dataset = CustomImageDataset(file_path=dataset_sample_path, transform=transform, sampling=True)\n",
        "    sample_loader = DataLoader(sample_dataset, batch_size=batch_size, shuffle=True, pin_memory=True)\n",
        "    return sample_dataset, sample_loader"
      ],
      "metadata": {
        "id": "MQFI_PcTSbwk"
      },
      "execution_count": 11,
      "outputs": []
    },
    {
      "cell_type": "markdown",
      "metadata": {
        "id": "Kg3-V9AjhANX"
      },
      "source": [
        "## Training"
      ]
    },
    {
      "cell_type": "markdown",
      "source": [
        "Model definition and training configuration"
      ],
      "metadata": {
        "id": "ghKVUoB_0y5r"
      }
    },
    {
      "cell_type": "code",
      "source": [
        "import torch\n",
        "from torchvision import models\n",
        "from config import lr, momentum, weight_decay, gamma, step_size, dataset, num_classes, writer_path_smp as writer_path\n",
        "%cd \"content/Deep-Self-Learning-From-Noisy-Labels\"\n",
        "from SupportFunctions import calculate_accuracy, evaluate_model, load_checkpoint, save_checkpoint\n",
        "%cd ../../\n",
        "from sklearn.utils.class_weight import compute_class_weight\n",
        "import pandas as pd\n",
        "import numpy as np\n",
        "import torch\n",
        "from collections import Counter\n",
        "\n",
        "device = torch.device(\"cuda:0\" if torch.cuda.is_available() else \"cpu\")\n",
        "print(f\"device: {device}\")\n",
        "\n",
        "# Initialize the model\n",
        "#model = models.resnet50(pretrained=True)\n",
        "model = models.resnet50(weights=models.ResNet50_Weights.DEFAULT)\n",
        "# Modify the final fully connected layer to output 14 classes\n",
        "num_ftrs = model.fc.in_features\n",
        "model.fc = torch.nn.Linear(num_ftrs, num_classes)\n",
        "# Calculate the balanced class weights because of an imbalanced dataset\n",
        "_, labels = get_data()\n",
        "# Count the occurrences of each label\n",
        "label_counts = Counter(labels)\n",
        "# Compute class weights\n",
        "class_weights = compute_class_weight('balanced', classes=np.unique(labels), y=labels)\n",
        "class_weights = torch.tensor(class_weights, dtype=torch.float).to(device)\n",
        "# Define the loss function and optimizer\n",
        "criterion = torch.nn.CrossEntropyLoss(weight=class_weights)\n",
        "optimizer = torch.optim.SGD(model.parameters(), lr=lr, momentum=momentum, weight_decay=weight_decay)\n",
        "# Initialize the learning rate scheduler: Decay LR by a factor of 0.1 every 5 epochs\n",
        "scheduler = torch.optim.lr_scheduler.StepLR(optimizer, step_size=step_size, gamma=gamma)\n",
        "\n",
        "# Define the hook function with the intermediate_output as the features\n",
        "def hook(module, input, output):\n",
        "    global intermediate_output\n",
        "    intermediate_output = output.detach()\n",
        "\n",
        "def reset_intermediate_output():\n",
        "    global intermediate_output\n",
        "    intermediate_output = None\n",
        "\n",
        "# Register the hook to the layer before the FC layer (AdaptiveAvgPool2d)\n",
        "hook = model.avgpool.register_forward_hook(hook)\n",
        "\n",
        "# Parallelize training across multiple GPUs\n",
        "model = torch.nn.DataParallel(model).to(device)\n",
        "\n",
        "import time\n",
        "from config import num_epochs, dataset_root, alpha, num_prototypes, checkpoint_path\n",
        "from torch.utils.tensorboard import SummaryWriter\n",
        "\n",
        "# Initialize TensorBoard writer\n",
        "writer = SummaryWriter(writer_path)\n",
        "\n",
        "# Early stopping parameters\n",
        "patience = 5\n",
        "best_val_loss = float('inf')\n",
        "epochs_no_improve = 0\n",
        "early_stop = False\n"
      ],
      "metadata": {
        "colab": {
          "base_uri": "https://localhost:8080/"
        },
        "id": "2Sm-vbi304_-",
        "outputId": "f4269c73-cbe7-4a9f-c163-b946115b244f"
      },
      "execution_count": 14,
      "outputs": [
        {
          "output_type": "stream",
          "name": "stdout",
          "text": [
            "[Errno 2] No such file or directory: 'content/Deep-Self-Learning-From-Noisy-Labels'\n",
            "/content/Deep-Self-Learning-From-Noisy-Labels\n",
            "/\n",
            "device: cuda:0\n"
          ]
        },
        {
          "output_type": "stream",
          "name": "stderr",
          "text": [
            "Downloading: \"https://download.pytorch.org/models/resnet50-11ad3fa6.pth\" to /root/.cache/torch/hub/checkpoints/resnet50-11ad3fa6.pth\n",
            "100%|██████████| 97.8M/97.8M [00:00<00:00, 162MB/s]\n"
          ]
        }
      ]
    },
    {
      "cell_type": "code",
      "source": [
        "def cos_similarity(samples_features, randomly_sampled_img_count=randomly_sampled_img_count):\n",
        "    \"\"\"\n",
        "    This function computes the cosine similarity matrix for 1280 sample features for one of the 14 classes\n",
        "    Input: Sample features are the randomly sampled 1280 images from one class. It is a tensor([1280, 3, 224, 224])\n",
        "    Output: Similarity matrix of 1280 sample features for one of the 14 classes\n",
        "    tensor([1280, 1280])\n",
        "    \"\"\"\n",
        "    # Step 1: Flatten the image features to shape [1280, 150528]\n",
        "    flattened_features = samples_features.view(randomly_sampled_img_count, -1)\n",
        "\n",
        "    # Step 2: Normalize the features\n",
        "    normalized_features = torch.nn.functional.normalize(flattened_features, p=2, dim=1)\n",
        "\n",
        "    # Step 3: Compute the cosine similarity matrix\n",
        "    similarity_matrix = torch.mm(normalized_features, normalized_features.t())\n",
        "\n",
        "    return similarity_matrix\n",
        "\n",
        "from config import threshold_percentile\n",
        "def calc_similarity_threshold(similarity_matrix, percentile=threshold_percentile):\n",
        "    \"\"\"\n",
        "    This function calculates a suitable similarity threshold value for the calc_rho_density function.\n",
        "    It takes the similarity value of the data point at the specified percentile rank.\n",
        "\n",
        "    Input:\n",
        "    - similarity_matrix: cosine similarity matrix of 1280 images, torch.Size([1280, 1280])\n",
        "    - percentile: the desired percentile for threshold calculation (default is 40)\n",
        "\n",
        "    Output:\n",
        "    - threshold: numeric value between 0.0 and 1.0 representing the similarity threshold\n",
        "    \"\"\"\n",
        "    # Flatten the matrix and exclude the diagonal elements\n",
        "    flattened_matrix = similarity_matrix.flatten()\n",
        "    n = similarity_matrix.size(0)\n",
        "    mask = torch.eye(n, dtype=torch.bool)\n",
        "    non_diagonal_elements = flattened_matrix[~mask.flatten()]\n",
        "\n",
        "    # Sort the non-diagonal elements\n",
        "    sorted_elements = torch.sort(non_diagonal_elements).values\n",
        "\n",
        "    # Calculate the index for the desired percentile\n",
        "    index = int((percentile / 100.0) * len(sorted_elements))\n",
        "\n",
        "    # Retrieve the similarity threshold value\n",
        "    return sorted_elements[index].item()\n",
        "\n",
        "def calc_rho_densities(similarity_matrix, threshold):\n",
        "    \"\"\"\n",
        "    This function computes the density of the images of one class to determine\n",
        "    if they are diverse prototypes in the later stages of the programming.\n",
        "    It follows the following function: sign(x) = 1 if x > 0; sign(x) = 0 if x = 0; otherwise sign(x) = -1\n",
        "    So, if the cosine similarity (S_c) of the two images exceed the threshold, then the density is incremented by one.\n",
        "    If the threshold is equal to the S_c, then the density stays the same.\n",
        "    If the threshold is larger than S_c, then the density is reduced by 1.\n",
        "    Input: cosine similarity matrix of 1280 images (torch.Size([1280, 1280]) and the threshold (numeric value between 0 and 1)\n",
        "    Output: Densities of 1280 sample features for each of the 14 classes\n",
        "    tensor([1280])\n",
        "    \"\"\"\n",
        "    # Initialize the density vector with zeros\n",
        "    densities = torch.zeros(similarity_matrix.size()[0])\n",
        "\n",
        "    # Loop through each image\n",
        "    for i in range(similarity_matrix.size(0)):\n",
        "        # Apply the sign function\n",
        "        sign_values = torch.sign(similarity_matrix[i] - threshold)\n",
        "\n",
        "        # Calculate the density for the i-th image\n",
        "        densities[i] = torch.sum(sign_values)\n",
        "    return densities\n",
        "\n",
        "\n",
        "def calc_eta_similarity_measurement(similarity_matrix, densities):\n",
        "    \"\"\"\n",
        "    This function computes the eta value, which describes the similarity\n",
        "    measurement used to identify diverse and representative prototypes.\n",
        "    Input: cosine similarity matrix of 1280 images (torch.Size([1280, 1280]) and len(densities) = 1280\n",
        "    Output: The similarity measurement eta for each image\n",
        "    tensor([1280])\n",
        "    \"\"\"\n",
        "    # Initialize the eta tensor\n",
        "    eta = torch.zeros_like(densities)\n",
        "\n",
        "    # Get the maximum density value\n",
        "    max_density = densities.max()\n",
        "\n",
        "    for i in range(len(densities)):\n",
        "        if densities[i] < max_density:\n",
        "            # Find the maximum similarity for points with higher density\n",
        "            mask = densities > densities[i]\n",
        "            eta[i] = similarity_matrix[i, mask].max()\n",
        "        else:\n",
        "            # If the point has the maximum density, find the minimum similarity\n",
        "            eta[i] = similarity_matrix[i].min()\n",
        "\n",
        "    return eta\n",
        "\n",
        "from config import num_prototypes\n",
        "def select_prototypes(similarity_measurement, samples_features, num_prototypes=num_prototypes):\n",
        "    \"\"\"\n",
        "    This function selects the prototypes for a class.\n",
        "    Input: similarity_measurement (torch.Size([randomly_sampled_img_count])),\n",
        "      samples_features (torch.Size([randomly_sampled_img_count, 2048, 1, 1])) and num_prototypes int\n",
        "    Output: class_prototypes tensor (torch.Size([num_prototypes]))\n",
        "    \"\"\"\n",
        "    # Sort the similarity_measurement tensor in descending order and get the indices\n",
        "    sorted_indices = torch.argsort(similarity_measurement, descending=True)\n",
        "\n",
        "    class_prototypes_indices = sorted_indices[:num_prototypes]\n",
        "    # task: select the prototypes from the samples_features based on the indices in class_prototypes_indices\n",
        "    class_prototypes = samples_features[class_prototypes_indices]\n",
        "    return class_prototypes\n",
        "\n",
        "import torch\n",
        "from config import class_names\n",
        "def correct_labels(prototypes, train_features, labels, inputs=None):\n",
        "    \"\"\"\n",
        "    This function corrects the labels by calculating the average similarity scores for each class.\n",
        "    The label of the highest scoring class is selected as the label.\n",
        "    Input: prototypes (list with length of 14 for each class with each instance containing 8 prototypes each with a shape of torch.Size([num_prototypes, 2048, 1, 1])).\n",
        "        train_features (torch.Size([len(train_dataset), 2048, 1, 1]]))\n",
        "    Output: pseudo_labels (Tensor having a the same length as labels)\n",
        "    \"\"\"\n",
        "    pseudo_labels = []\n",
        "\n",
        "    # Iterate over each instance in train_features\n",
        "    for image in train_features:\n",
        "        # Calculate similarity scores for each class\n",
        "        similarity_scores = []\n",
        "        for class_prototypes in prototypes:\n",
        "            # Calculate average similarity score for the class\n",
        "            avg_similarity = torch.mean(torch.cosine_similarity(image, class_prototypes, dim=0))\n",
        "            similarity_scores.append(avg_similarity)\n",
        "\n",
        "        # Select the label of the highest scoring class\n",
        "        highest_score_index = torch.argmax(torch.tensor(similarity_scores))\n",
        "        pseudo_label = labels[highest_score_index]\n",
        "        pseudo_labels.append(pseudo_label)\n",
        "\n",
        "    # Print the percentage of labels changed\n",
        "    changed_labels = sum(pseudo_labels[i] != labels[i] for i in range(len(labels)))\n",
        "    percentage_changed = (changed_labels / len(labels)) * 100\n",
        "    print(f\"Percentage of labels changed: {percentage_changed}%\")\n",
        "\n",
        "    # Visualize the changed labels\n",
        "    for i in range(len(labels)):\n",
        "        if pseudo_labels[i] != labels[i]:\n",
        "            visualize_image(inputs[i], label=f\"{class_names[labels[i]]} → {class_names[pseudo_labels[i]]}\")\n",
        "\n",
        "    return pseudo_labels"
      ],
      "metadata": {
        "id": "aH1SYtJ35fDF"
      },
      "execution_count": 15,
      "outputs": []
    },
    {
      "cell_type": "code",
      "source": [
        "# 1. Train the Model\n",
        "for epoch in range(num_epochs):\n",
        "    print(f\"Epoch {epoch}\")\n",
        "    model.train()  # Set model to training mode\n",
        "    epoch_start_time = time.time()  # Start time for the epoch\n",
        "\n",
        "    running_loss = 0.0\n",
        "    correct_predictions = 0\n",
        "    total_samples = 0\n",
        "\n",
        "\n",
        "    for inputs, labels in train_loader:\n",
        "        # Move input and label tensors to the device\n",
        "        inputs = inputs.to(device)\n",
        "        labels = labels.to(device)\n",
        "\n",
        "        # Zero out the optimizer\n",
        "        optimizer.zero_grad()\n",
        "\n",
        "        # Forward pass\n",
        "        outputs = model(inputs)\n",
        "\n",
        "        # loss is computed differently in first epoch\n",
        "\n",
        "        if epoch == 0:\n",
        "            loss = criterion(outputs, labels)\n",
        "        else:\n",
        "            train_features, all_inputs, all_labels = [], [], []\n",
        "            for inputs, labels in train_loader:\n",
        "                # Reset intermediate_output because the model has just seen it\n",
        "                reset_intermediate_output()\n",
        "                model(inputs)\n",
        "                # extract features of the samples with the hook (automatically in the feature variable)\n",
        "                train_features.append(intermediate_output)\n",
        "                all_inputs.append(inputs)\n",
        "                all_labels.append(labels)\n",
        "                reset_intermediate_output()\n",
        "\n",
        "            train_features = torch.cat(train_features)\n",
        "            all_inputs = torch.cat(all_inputs)\n",
        "            all_labels = torch.cat(all_labels)\n",
        "            # get the pseudo_labels\n",
        "            pseudo_labels = correct_labels(prototypes, train_features, all_labels, inputs=all_inputs)\n",
        "            # calculate the loss on pseudo and original labels\n",
        "            loss = (1-alpha) * criterion(outputs, labels) + alpha * criterion(outputs, pseudo_labels)\n",
        "\n",
        "        # Backward pass\n",
        "        loss.backward()\n",
        "        optimizer.step()\n",
        "\n",
        "        running_loss += loss.item()\n",
        "        correct_predictions += calculate_accuracy(outputs, labels)\n",
        "        total_samples += labels.size(0)\n",
        "\n",
        "    epoch_duration = time.time() - epoch_start_time  # End time for the epoch\n",
        "    avg_loss = running_loss / len(train_loader)  # Average loss for the epoch\n",
        "    accuracy = correct_predictions / total_samples  # Accuracy for the epoch\n",
        "\n",
        "    # Log the training loss, accuracy, and duration to TensorBoard\n",
        "    writer.add_scalar('Loss/train', avg_loss, epoch)\n",
        "    writer.add_scalar('Accuracy/train', accuracy, epoch)\n",
        "    writer.add_scalar('Time/train', epoch_duration, epoch)\n",
        "\n",
        "    # Validate the model\n",
        "    val_loss, val_accuracy = evaluate_model(val_loader, model, criterion, device)\n",
        "    writer.add_scalar('Loss/val', val_loss, epoch)\n",
        "    writer.add_scalar('Accuracy/val', val_accuracy, epoch)\n",
        "\n",
        "    # Print the loss, accuracy, and time for every epoch\n",
        "    print(f'Epoch {epoch+1}/{num_epochs}, '\n",
        "          f'Train Loss: {avg_loss:.4f}, Train Accuracy: {accuracy:.4f}, '\n",
        "          f'Val Loss: {val_loss:.4f}, Val Accuracy: {val_accuracy:.4f}, '\n",
        "          f'Time: {epoch_duration:.2f} sec')\n",
        "\n",
        "    # Check for early stopping\n",
        "    if val_loss < best_val_loss:\n",
        "        best_val_loss = val_loss\n",
        "        epochs_no_improve = 0\n",
        "    else:\n",
        "        epochs_no_improve += 1\n",
        "        if epochs_no_improve >= patience:\n",
        "            print(f'Early stopping at epoch {epoch+1}')\n",
        "            early_stop = True\n",
        "\n",
        "    # Save checkpoint\n",
        "    save_checkpoint(epoch, model, optimizer, scheduler, best_val_loss, epochs_no_improve, checkpoint_path)\n",
        "\n",
        "    # Step the scheduler\n",
        "    scheduler.step()\n",
        "\n",
        "    # 2. Label Correction Phase (except in last iteration)\n",
        "    with torch.no_grad():\n",
        "        if epoch != num_epochs-1:\n",
        "            # 2.1 Prototype Selection\n",
        "            # initialize prototypes\n",
        "            prototypes = []\n",
        "            for class_id in range(num_classes):\n",
        "                # Reset the features\n",
        "                reset_intermediate_output()\n",
        "                # sample m=1280 images for the current class\n",
        "                sample_dataset, sample_loader = sample_images(class_id)\n",
        "                # feed the randomly sampled images through the model to extract\n",
        "                # the features of the samples with the hook\n",
        "                # (automatically in the intermediate_output variable)\n",
        "                samples_features = []\n",
        "                for inputs in sample_loader:\n",
        "                    inputs = inputs.to(device)\n",
        "                    model(inputs)\n",
        "                    samples_features.append(intermediate_output)\n",
        "                    reset_intermediate_output()\n",
        "                # convert to tensor for following operations\n",
        "                samples_features = torch.cat(samples_features)\n",
        "                # calculate similarity matrix of sample features\n",
        "                similarity_matrix = cos_similarity(samples_features)\n",
        "                # calculate the threshold\n",
        "                threshold = calc_similarity_threshold(similarity_matrix)\n",
        "                # calculate density of images\n",
        "                densities = calc_rho_densities(similarity_matrix, threshold)\n",
        "                # calculate similarity measurement\n",
        "                similarity_measurement = calc_eta_similarity_measurement(similarity_matrix, densities)\n",
        "                # select prototypes for each class\n",
        "                class_prototypes = select_prototypes(similarity_measurement, samples_features)\n",
        "                prototypes.append(class_prototypes)\n",
        "            prototypes = torch.cat(prototypes)\n",
        "\n",
        "hook.remove()\n",
        "\n",
        "print(f'Finished Training, Final Train Loss: {avg_loss:.4f}, Final Train Accuracy: {accuracy:.4f}')\n",
        "\n",
        "\n",
        "# Test the model\n",
        "test_loss, test_accuracy = evaluate_model(test_loader, model, criterion, device)\n",
        "writer.add_scalar('Loss/test', test_loss, 0)\n",
        "writer.add_scalar('Accuracy/test', test_accuracy, 0)\n",
        "print(f'Test Loss: {test_loss:.4f}, Test Accuracy: {test_accuracy:.4f}')\n",
        "\n",
        "# Close the TensorBoard writer\n",
        "writer.close()"
      ],
      "metadata": {
        "colab": {
          "base_uri": "https://localhost:8080/"
        },
        "id": "-GOBTE-awNO-",
        "outputId": "c611bd95-724f-4c50-dad4-0b169ce63705"
      },
      "execution_count": null,
      "outputs": [
        {
          "output_type": "stream",
          "name": "stdout",
          "text": [
            "Epoch 0\n"
          ]
        }
      ]
    },
    {
      "cell_type": "code",
      "source": [
        "# plot similarity x density"
      ],
      "metadata": {
        "id": "e2mUftsGmf9C"
      },
      "execution_count": null,
      "outputs": []
    },
    {
      "cell_type": "code",
      "source": [
        "# plot distribution and of eta (how many percent have eta over 0.90 or 0.95)"
      ],
      "metadata": {
        "id": "_nwl-tVcmy6m"
      },
      "execution_count": null,
      "outputs": []
    },
    {
      "cell_type": "code",
      "execution_count": null,
      "metadata": {
        "id": "S6cOck_EUC_W"
      },
      "outputs": [],
      "source": [
        "from google.colab import files\n",
        "\n",
        "files.download(model_path)\n",
        "files.download(writer_path)"
      ]
    },
    {
      "cell_type": "code",
      "execution_count": null,
      "metadata": {
        "id": "NPuy_SP-8gM8"
      },
      "outputs": [],
      "source": [
        "# Save the trained model\n",
        "model_path = f'{dataset_root}models/smp.pth'.replace(\"../\",\"/content/\")\n",
        "torch.save(model.state_dict(), model_path)\n",
        "print(\"Model saved.\")"
      ]
    },
    {
      "cell_type": "markdown",
      "metadata": {
        "id": "LmSUgY5LJkr1"
      },
      "source": [
        "#### Evaluation"
      ]
    },
    {
      "cell_type": "code",
      "execution_count": null,
      "metadata": {
        "id": "Xs-Zu6n48gM8"
      },
      "outputs": [],
      "source": [
        "import torch\n",
        "from torchvision import models\n",
        "from torchviz import make_dot\n",
        "\n",
        "# Define the model (assuming you have already defined and loaded it as before)\n",
        "weights = models.ResNet50_Weights.IMAGENET1K_V1\n",
        "model = models.resnet50(weights=weights)\n",
        "num_ftrs = model.fc.in_features\n",
        "model.fc = torch.nn.Linear(num_ftrs, len(class_names))\n",
        "\n",
        "# Create a dummy input tensor with the same shape as your input data\n",
        "dummy_input = torch.randn(1, 3, 224, 224)\n",
        "\n",
        "# Perform a forward pass using the dummy input\n",
        "output = model(dummy_input)\n",
        "\n",
        "# Visualize the model\n",
        "dot = make_dot(output, params=dict(model.named_parameters()))\n",
        "dot.format = 'png'\n",
        "dot.render(f'{dataset_root}models/resnet50_model')\n",
        "\n",
        "# Display the model graph\n",
        "from IPython.display import Image\n",
        "Image(f'{dataset_root}models/resnet50_model.png')"
      ]
    },
    {
      "cell_type": "markdown",
      "metadata": {
        "id": "cFfLgWbug0-b"
      },
      "source": [
        "Evaluate models on validation data with accuracy, precision, recall, F1 score"
      ]
    },
    {
      "cell_type": "code",
      "execution_count": null,
      "metadata": {
        "id": "39KX4RCggv5n"
      },
      "outputs": [],
      "source": [
        "import torch\n",
        "import pandas as pd\n",
        "from sklearn.metrics import accuracy_score, precision_score, recall_score, f1_score\n",
        "\n",
        "# Load the model (assuming it's saved as a PyTorch model)\n",
        "model = torch.load(model_path)\n",
        "model.eval()  # Set the model to evaluation mode\n",
        "\n",
        "# Define a function to evaluate the model\n",
        "def evaluate_model(loader):\n",
        "    all_preds = []\n",
        "    all_labels = []\n",
        "    with torch.no_grad():\n",
        "        for images, labels in loader:\n",
        "            outputs = model(images)\n",
        "            _, preds = torch.max(outputs, 1)\n",
        "            all_preds.extend(preds.cpu().numpy())\n",
        "            all_labels.extend(labels.cpu().numpy())\n",
        "\n",
        "    accuracy = accuracy_score(all_labels, all_preds)\n",
        "    precision = precision_score(all_labels, all_preds, average='weighted')\n",
        "    recall = recall_score(all_labels, all_preds, average='weighted')\n",
        "    f1 = f1_score(all_labels, all_preds, average='weighted')\n",
        "\n",
        "    return accuracy, precision, recall, f1\n",
        "\n",
        "# Assuming val_loader and test_loader are defined and contain the data\n",
        "val_accuracy, val_precision, val_recall, val_f1 = evaluate_model(val_loader)\n",
        "test_accuracy, test_precision, test_recall, test_f1 = evaluate_model(test_loader)\n",
        "\n",
        "# Create a DataFrame to store the evaluation results\n",
        "evaluation_results = pd.DataFrame({\n",
        "    'Dataset': ['Validation', 'Test'],\n",
        "    'Accuracy': [val_accuracy, test_accuracy],\n",
        "    'Precision': [val_precision, test_precision],\n",
        "    'Recall': [val_recall, test_recall],\n",
        "    'F1 Score': [val_f1, test_f1]\n",
        "})\n",
        "\n",
        "# Export the evaluation results to a CSV file\n",
        "evaluation_results.to_csv(f'{dataset_root}models/model_evaluation_results.csv', index=False)\n",
        "\n",
        "print(\"Model evaluation completed and results exported.\")\n"
      ]
    },
    {
      "cell_type": "markdown",
      "metadata": {
        "id": "wORmA_46Jz9U"
      },
      "source": [
        "# To Do\n",
        "\n",
        "- handle class imbalance (oversampling, undersampling, or class weighting to balance the dataset)\n",
        "optional\n",
        "- Hyperparameter tuning to verify statements in the paper"
      ]
    }
  ],
  "metadata": {
    "accelerator": "GPU",
    "colab": {
      "gpuType": "A100",
      "machine_shape": "hm",
      "provenance": []
    },
    "kernelspec": {
      "display_name": "Python 3",
      "name": "python3"
    },
    "language_info": {
      "codemirror_mode": {
        "name": "ipython",
        "version": 3
      },
      "file_extension": ".py",
      "mimetype": "text/x-python",
      "name": "python",
      "nbconvert_exporter": "python",
      "pygments_lexer": "ipython3",
      "version": "3.10.8"
    }
  },
  "nbformat": 4,
  "nbformat_minor": 0
}