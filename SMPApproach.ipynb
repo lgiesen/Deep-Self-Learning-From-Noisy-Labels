{
  "cells": [
    {
      "cell_type": "markdown",
      "metadata": {
        "id": "mwzqNd1Vg4wi"
      },
      "source": [
        "## Load the Data"
      ]
    },
    {
      "cell_type": "markdown",
      "metadata": {
        "id": "8wtdbnguQ4aY"
      },
      "source": [
        "Mount Google Drive to access data and other repo files"
      ]
    },
    {
      "cell_type": "code",
      "execution_count": 2,
      "metadata": {
        "colab": {
          "base_uri": "https://localhost:8080/"
        },
        "id": "YjKkw5H68gM0",
        "outputId": "8364821f-7cd8-49e7-e2f7-8ccb337bb9cd"
      },
      "outputs": [
        {
          "name": "stdout",
          "output_type": "stream",
          "text": [
            "Mounted at /content/drive\n"
          ]
        }
      ],
      "source": [
        "from google.colab import drive\n",
        "drive.mount('/content/drive', force_remount=True)"
      ]
    },
    {
      "cell_type": "markdown",
      "metadata": {
        "id": "3bfgRV3ZQ8tX"
      },
      "source": [
        "Set the seed for reproducability"
      ]
    },
    {
      "cell_type": "code",
      "execution_count": 3,
      "metadata": {
        "id": "JD7I8qKXQ38W"
      },
      "outputs": [],
      "source": [
        "import torch\n",
        "import numpy as np\n",
        "import random\n",
        "\n",
        "def set_seed(seed):\n",
        "    random.seed(seed)\n",
        "    np.random.seed(seed)\n",
        "    torch.manual_seed(seed)\n",
        "    if torch.cuda.is_available():\n",
        "        torch.cuda.manual_seed(seed)\n",
        "        torch.cuda.manual_seed_all(seed)  # if you are using multi-GPU.\n",
        "    torch.backends.cudnn.deterministic = True\n",
        "    torch.backends.cudnn.benchmark = False\n",
        "\n",
        "set_seed(42)"
      ]
    },
    {
      "cell_type": "markdown",
      "metadata": {
        "id": "xUjGGMxp_4H_"
      },
      "source": [
        "Delete redundant sample data from Google Colab's session"
      ]
    },
    {
      "cell_type": "code",
      "execution_count": 4,
      "metadata": {
        "colab": {
          "base_uri": "https://localhost:8080/"
        },
        "id": "g46yhAoyLeuB",
        "outputId": "4eedc21b-4b64-4edc-9063-a0a7f38e0c2c"
      },
      "outputs": [
        {
          "name": "stdout",
          "output_type": "stream",
          "text": [
            "Folder 'sample_data' has been deleted.\n"
          ]
        }
      ],
      "source": [
        "import shutil\n",
        "import os\n",
        "\n",
        "def delete_folder(folder_path):\n",
        "    if os.path.exists(folder_path):\n",
        "        shutil.rmtree(folder_path)\n",
        "        print(f\"Folder '{folder_path}' has been deleted.\")\n",
        "    else:\n",
        "        print(f\"Folder '{folder_path}' does not exist.\")\n",
        "\n",
        "delete_folder('sample_data')\n"
      ]
    },
    {
      "cell_type": "markdown",
      "metadata": {
        "id": "9v77OIPU_4IB"
      },
      "source": [
        "Clone the repository to access the other relevant files"
      ]
    },
    {
      "cell_type": "code",
      "execution_count": 5,
      "metadata": {
        "colab": {
          "base_uri": "https://localhost:8080/"
        },
        "id": "ezFpCBHn9-Xl",
        "outputId": "ffcaa5c5-53d3-4120-d509-d6dc00a2f378"
      },
      "outputs": [
        {
          "name": "stdout",
          "output_type": "stream",
          "text": [
            "Cloning into 'Deep-Self-Learning-From-Noisy-Labels'...\n",
            "remote: Enumerating objects: 145, done.\u001b[K\n",
            "remote: Counting objects: 100% (145/145), done.\u001b[K\n",
            "remote: Compressing objects: 100% (93/93), done.\u001b[K\n",
            "remote: Total 145 (delta 79), reused 114 (delta 52), pack-reused 0\u001b[K\n",
            "Receiving objects: 100% (145/145), 4.21 MiB | 8.96 MiB/s, done.\n",
            "Resolving deltas: 100% (79/79), done.\n",
            "/content/Deep-Self-Learning-From-Noisy-Labels\n"
          ]
        }
      ],
      "source": [
        "# clone the repo\n",
        "!git clone https://github.com/lgiesen/Deep-Self-Learning-From-Noisy-Labels.git\n",
        "\n",
        "# go to directory\n",
        "%cd Deep-Self-Learning-From-Noisy-Labels"
      ]
    },
    {
      "cell_type": "markdown",
      "metadata": {
        "id": "vyXJNDnV_4IE"
      },
      "source": [
        "Define the dataset"
      ]
    },
    {
      "cell_type": "code",
      "execution_count": 6,
      "metadata": {
        "colab": {
          "base_uri": "https://localhost:8080/"
        },
        "id": "JJGD8fw88gM5",
        "outputId": "15844a41-27f5-4182-eba7-807fba5625bb"
      },
      "outputs": [
        {
          "name": "stdout",
          "output_type": "stream",
          "text": [
            "{'train': 674373, 'val': 207499}\n",
            "/\n"
          ]
        }
      ],
      "source": [
        "from config import batch_size, dataset_test_path, dataset_train_path, dataset_val_path\n",
        "from LoadDataset import CustomImageDataset\n",
        "from torch.utils.data import DataLoader, ConcatDataset\n",
        "from torchvision import transforms\n",
        "\n",
        "# Define the transformations\n",
        "transform = transforms.Compose([\n",
        "    transforms.Resize(256),\n",
        "    transforms.RandomCrop(224),\n",
        "    transforms.ToTensor(),\n",
        "    transforms.Normalize(mean=[0.485, 0.456, 0.406], std=[0.229, 0.224, 0.225]),\n",
        "    # \"These exact values are used for normalizing data that has been pre-trained\n",
        "    # on the ImageNet dataset. They are based on the statistics of the ImageNet\n",
        "    # dataset, which consists of a large number of natural images.\"\n",
        "    # https://moiseevigor.github.io/software/2022/12/18/one-pager-training-resnet-on-imagenet/\n",
        "\n",
        "])\n",
        "\n",
        "# Create datasets\n",
        "train_dataset = CustomImageDataset(file_path=dataset_train_path, transform=transform)\n",
        "val_dataset = CustomImageDataset(file_path=dataset_val_path, transform=transform)\n",
        "test_dataset = CustomImageDataset(file_path=dataset_test_path, transform=transform)\n",
        "complete_dataset = ConcatDataset([train_dataset, val_dataset, test_dataset])\n",
        "\n",
        "# Create data loaders\n",
        "# pinned memory can significantly speed up the transfer of data between the host and the device (GPU) because the GPU can directly access it\n",
        "train_loader = DataLoader(train_dataset, batch_size=batch_size, shuffle=True, pin_memory=True)\n",
        "val_loader = DataLoader(val_dataset, batch_size=batch_size, shuffle=False)\n",
        "test_loader = DataLoader(test_dataset, batch_size=batch_size, shuffle=False)\n",
        "\n",
        "# Prepare dataloaders dictionary\n",
        "dataloaders = {\n",
        "    'train': train_loader,\n",
        "    'val': val_loader\n",
        "}\n",
        "\n",
        "dataset_sizes = {'train': len(train_dataset), 'val': len(val_dataset)}\n",
        "print(dataset_sizes)\n",
        "%cd ../../"
      ]
    },
    {
      "cell_type": "markdown",
      "metadata": {
        "id": "KzDPbook_4IF"
      },
      "source": [
        "Extract the image files"
      ]
    },
    {
      "cell_type": "code",
      "execution_count": 7,
      "metadata": {
        "colab": {
          "base_uri": "https://localhost:8080/"
        },
        "id": "OGoMbLEw20XY",
        "outputId": "2d25d4c6-3516-4407-e985-17ae5baa90e4"
      },
      "outputs": [
        {
          "name": "stdout",
          "output_type": "stream",
          "text": [
            "Extracted /content/drive/MyDrive/Colab_Notebooks/Deep_Self_Learning_From_Noisy_Labels/images/2.tar to ../drive/MyDrive/Colab_Notebooks/Deep_Self_Learning_From_Noisy_Labels/extracted_images/\n",
            "Extracted /content/drive/MyDrive/Colab_Notebooks/Deep_Self_Learning_From_Noisy_Labels/images/4.tar to ../drive/MyDrive/Colab_Notebooks/Deep_Self_Learning_From_Noisy_Labels/extracted_images/\n",
            "Extracted /content/drive/MyDrive/Colab_Notebooks/Deep_Self_Learning_From_Noisy_Labels/images/0.tar to ../drive/MyDrive/Colab_Notebooks/Deep_Self_Learning_From_Noisy_Labels/extracted_images/\n",
            "Extracted /content/drive/MyDrive/Colab_Notebooks/Deep_Self_Learning_From_Noisy_Labels/images/5.tar to ../drive/MyDrive/Colab_Notebooks/Deep_Self_Learning_From_Noisy_Labels/extracted_images/\n",
            "Extracted /content/drive/MyDrive/Colab_Notebooks/Deep_Self_Learning_From_Noisy_Labels/images/3.tar to ../drive/MyDrive/Colab_Notebooks/Deep_Self_Learning_From_Noisy_Labels/extracted_images/\n",
            "Extracted /content/drive/MyDrive/Colab_Notebooks/Deep_Self_Learning_From_Noisy_Labels/images/7.tar to ../drive/MyDrive/Colab_Notebooks/Deep_Self_Learning_From_Noisy_Labels/extracted_images/\n",
            "Extracted /content/drive/MyDrive/Colab_Notebooks/Deep_Self_Learning_From_Noisy_Labels/images/1.tar to ../drive/MyDrive/Colab_Notebooks/Deep_Self_Learning_From_Noisy_Labels/extracted_images/\n",
            "Extracted /content/drive/MyDrive/Colab_Notebooks/Deep_Self_Learning_From_Noisy_Labels/images/9.tar to ../drive/MyDrive/Colab_Notebooks/Deep_Self_Learning_From_Noisy_Labels/extracted_images/\n",
            "Extracted /content/drive/MyDrive/Colab_Notebooks/Deep_Self_Learning_From_Noisy_Labels/images/6.tar to ../drive/MyDrive/Colab_Notebooks/Deep_Self_Learning_From_Noisy_Labels/extracted_images/\n",
            "Extracted /content/drive/MyDrive/Colab_Notebooks/Deep_Self_Learning_From_Noisy_Labels/images/8.tar to ../drive/MyDrive/Colab_Notebooks/Deep_Self_Learning_From_Noisy_Labels/extracted_images/\n",
            "The extracted tar files should result in the folders 0 to 9:\n",
            "0  1  2  3  4  5  6  7\t8  9\n",
            "CPU times: user 3min 56s, sys: 6min 29s, total: 10min 25s\n",
            "Wall time: 5min 58s\n"
          ]
        }
      ],
      "source": [
        "%%time\n",
        "import tarfile\n",
        "import os\n",
        "from config import shared_folder_path, dataset_img\n",
        "\n",
        "# Function to extract and process files\n",
        "def extract_and_process(tar_file_path, extract_to):\n",
        "    with tarfile.open(tar_file_path, 'r') as tar_ref:\n",
        "        tar_ref.extractall(extract_to)\n",
        "        print(f\"Extracted {tar_file_path} to {extract_to}\")\n",
        "\n",
        "parallel_extraction = True\n",
        "\n",
        "from concurrent.futures import ThreadPoolExecutor\n",
        "\n",
        "# Function to extract and process files\n",
        "def extract_and_process(tar_file_path, extract_to):\n",
        "    with tarfile.open(tar_file_path, 'r') as tar_ref:\n",
        "        tar_ref.extractall(extract_to)\n",
        "        print(f\"Extracted {tar_file_path} to {extract_to}\")\n",
        "\n",
        "# Create the extraction directory if it doesn't exist\n",
        "os.makedirs(dataset_img, exist_ok=True)\n",
        "\n",
        "# List of tar files to extract\n",
        "tar_files = [os.path.join(shared_folder_path, f\"{i}.tar\") for i in range(10)]\n",
        "\n",
        "# Function to handle extraction in parallel\n",
        "def extract_tar_files_parallel(tar_files, extract_to):\n",
        "    with ThreadPoolExecutor() as executor:\n",
        "        futures = [executor.submit(extract_and_process, tar_file, extract_to) for tar_file in tar_files if os.path.exists(tar_file)]\n",
        "        for future in futures:\n",
        "            try:\n",
        "                future.result()  # Wait for the result to ensure any exceptions are raised\n",
        "            except Exception as e:\n",
        "                print(f\"An error occurred: {e}\")\n",
        "\n",
        "# Extract tar files in parallel\n",
        "extract_tar_files_parallel(tar_files, dataset_img)\n",
        "print(\"The extracted tar files should result in the folders 0 to 9:\")\n",
        "!ls \"{dataset_img}\""
      ]
    },
    {
      "cell_type": "markdown",
      "metadata": {
        "id": "Kg3-V9AjhANX"
      },
      "source": [
        "## Training"
      ]
    },
    {
      "cell_type": "code",
      "execution_count": 16,
      "metadata": {
        "colab": {
          "base_uri": "https://localhost:8080/"
        },
        "id": "y5WIYVsj_4IG",
        "outputId": "c255df24-c639-4aaa-fea0-304b053c948c"
      },
      "outputs": [
        {
          "name": "stdout",
          "output_type": "stream",
          "text": [
            "device: cuda:0\n"
          ]
        }
      ],
      "source": [
        "import torch\n",
        "from torchvision import models\n",
        "from config import lr, momentum, weight_decay, gamma, step_size, dataset, num_classes\n",
        "from sklearn.utils.class_weight import compute_class_weight\n",
        "import pandas as pd\n",
        "import numpy as np\n",
        "import torch\n",
        "from collections import Counter\n",
        "\n",
        "device = torch.device(\"cuda:0\" if torch.cuda.is_available() else \"cpu\")\n",
        "print(f\"device: {device}\")\n",
        "\n",
        "# Initialize the model\n",
        "#model = models.resnet50(pretrained=True)\n",
        "model = models.resnet50(weights=models.ResNet50_Weights.DEFAULT)\n",
        "# Modify the final fully connected layer to output 14 classes\n",
        "num_ftrs = model.fc.in_features\n",
        "model.fc = torch.nn.Linear(num_ftrs, num_classes)\n",
        "\n",
        "# Define a hook function to capture the output before the FC layer\n",
        "def hook_function(module, input, output):\n",
        "    global features\n",
        "    #features = output\n",
        "    features.append(output)\n",
        "\n",
        "# Register the hook to the layer before the FC layer (AdaptiveAvgPool2d)\n",
        "hook = model.avgpool.register_forward_hook(hook_function)\n",
        "\n",
        "# Parallelize training across multiple GPUs\n",
        "model = torch.nn.DataParallel(model).to(device)\n",
        "\n",
        "# Calculate the balanced class weights because of an imbalanced dataset\n",
        "# Read the data again for higher efficiency\n",
        "data = pd.read_csv(dataset.replace(\"../\",\"/content/\"), header=None, sep=' ', usecols=[1], names=['label'])\n",
        "# Convert the labels to a numpy array\n",
        "labels = data['label'].values\n",
        "# Count the occurrences of each label\n",
        "label_counts = Counter(labels)\n",
        "# Compute class weights\n",
        "class_weights = compute_class_weight('balanced', classes=np.unique(labels), y=labels)\n",
        "class_weights = torch.tensor(class_weights, dtype=torch.float).to(device)\n",
        "del label_counts, data\n",
        "# Define the loss function and optimizer\n",
        "criterion = torch.nn.CrossEntropyLoss(weight=class_weights)\n",
        "optimizer = torch.optim.SGD(model.parameters(), lr=lr, momentum=momentum, weight_decay=weight_decay)\n",
        "\n",
        "# Initialize the learning rate scheduler: Decay LR by a factor of 0.1 every 5 epochs\n",
        "scheduler = torch.optim.lr_scheduler.StepLR(optimizer, step_size=step_size, gamma=gamma)"
      ]
    },
    {
      "cell_type": "code",
      "execution_count": null,
      "metadata": {
        "id": "HgEIt5V4gJJi"
      },
      "outputs": [],
      "source": [
        "# Function to calculate accuracy\n",
        "def calculate_accuracy(outputs, labels):\n",
        "    _, predicted = outputs.max(1)\n",
        "    correct = predicted.eq(labels).sum().item()\n",
        "    return correct\n",
        "\n",
        "# Function to evaluate the model\n",
        "def evaluate_model(loader, model, criterion, device):\n",
        "    model.eval()  # Set model to evaluation mode\n",
        "    running_loss = 0.0\n",
        "    correct_predictions = 0\n",
        "    total_samples = 0\n",
        "\n",
        "    with torch.no_grad():  # No need to calculate gradients during evaluation\n",
        "        for inputs, labels in loader:\n",
        "            inputs = inputs.to(device)\n",
        "            labels = labels.to(device)\n",
        "\n",
        "            outputs = model(inputs)\n",
        "            loss = criterion(outputs, labels)\n",
        "\n",
        "            running_loss += loss.item()\n",
        "            correct_predictions += calculate_accuracy(outputs, labels)\n",
        "            total_samples += labels.size(0)\n",
        "\n",
        "    avg_loss = running_loss / len(loader)\n",
        "    accuracy = correct_predictions / total_samples\n",
        "    return avg_loss, accuracy"
      ]
    },
    {
      "cell_type": "code",
      "execution_count": 36,
      "metadata": {
        "colab": {
          "base_uri": "https://localhost:8080/"
        },
        "id": "z8MKCbMTPIxd",
        "outputId": "993f46a2-ca3e-44b2-a4d9-95e84fb2a088"
      },
      "outputs": [
        {
          "name": "stdout",
          "output_type": "stream",
          "text": [
            "Instanzen pro Klasse im Subset: [1581 1624 1494  899  328 1466 1427 1409 1351 1521  831 1521 1115 1353]\n"
          ]
        }
      ],
      "source": [
        "from torch.utils.data import Subset\n",
        "from config import num_classes, randomly_sampled_img_count\n",
        "# Dictionary zur Speicherung der Indizes jeder Klasse\n",
        "class_indices = {i: [] for i in range(num_classes)}\n",
        "\n",
        "# Durchlaufen des Datensatzes und Speicherung der Indizes pro Klasse\n",
        "for idx, label in enumerate(labels):\n",
        "    class_indices[label].append(idx)\n",
        "\n",
        "# Subset-Indices erstellen, die 1280 Instanzen pro Klasse enthalten\n",
        "subset_indices = []\n",
        "for i in range(num_classes):\n",
        "    # Sicherstellen, dass wir genügend Instanzen für jede Klasse haben\n",
        "    if len(class_indices[i]) >= randomly_sampled_img_count:\n",
        "        subset_indices.extend(class_indices[i][:randomly_sampled_img_count])\n",
        "    else:\n",
        "        raise ValueError(f\"Klasse {i} hat weniger als {randomly_sampled_img_count} Instanzen.\")\n",
        "\n",
        "# Erstellen des Subset-Datasets\n",
        "subset_dataset = Subset(train_dataset, subset_indices)\n",
        "\n",
        "# Erstellen eines DataLoaders für das Subset\n",
        "subset_loader = DataLoader(subset_dataset, batch_size=64, shuffle=True)\n",
        "\n",
        "# Optional: Ausgabe der Anzahl der Instanzen pro Klasse im Subset überprüfen\n",
        "subset_labels = [labels[idx] for idx in subset_indices]\n",
        "print(f\"Instanzen pro Klasse im Subset: {Counter(subset_labels)}\")"
      ]
    },
    {
      "cell_type": "code",
      "execution_count": null,
      "metadata": {},
      "outputs": [],
      "source": [
        "def get_data():\n",
        "    # Calculate the balanced class weights because of an imbalanced dataset\n",
        "    # Read the data again for higher efficiency\n",
        "    data = pd.read_csv(dataset.replace(\"../\",\"/content/\"), header=None, sep=' ', names=['image', 'label'])\n",
        "    # Convert the labels to a numpy array\n",
        "    images = data['image'].values\n",
        "    labels = data['label'].values\n",
        "    return images, labels"
      ]
    },
    {
      "cell_type": "code",
      "execution_count": null,
      "metadata": {
        "id": "H2SdNB6z8yqF"
      },
      "outputs": [],
      "source": [
        "from config import num_classes, randomly_sampled_img_count\n",
        "def sample_images(complete_dataset=complete_dataset, num_samples=randomly_sampled_img_count):\n",
        "    \"\"\"\n",
        "    This function randomly samples 1280 images for each of the 14 classes \n",
        "    from the original noisy dataset (cf. Fig. 3 of \"Deep Self-Learning From Noisy Labels\") \n",
        "    The sampled_images has a shape of (class * images, 3 image channels) resulting in \n",
        "    (17.920, 3, 224, 224)\n",
        "    Output: DataLoader\n",
        "    \"\"\"\n",
        "    # Split the dataset into images and labels\n",
        "    images, labels = get_data()\n",
        "    \n",
        "    # Initialize a list to collect sampled images\n",
        "    sampled_images = []\n",
        "    # Iterate over each class and sample the images\n",
        "    for class_label in range(num_classes):\n",
        "        # Get indices of images corresponding to the current class\n",
        "        class_indices = (labels == class_label).nonzero()[0]\n",
        "        \n",
        "        # Randomly sample the required number of images for this class\n",
        "        sampled_indices = torch.randperm(len(class_indices))[:num_samples]\n",
        "        \n",
        "        # Collect the sampled images\n",
        "        sampled_class_images = images[class_indices[sampled_indices]]\n",
        "        \n",
        "        # Append the sampled images to the list\n",
        "        sampled_images.append(sampled_class_images)\n",
        "\n",
        "    # Return a data loader for the samples\n",
        "    return DataLoader(sampled_images, batch_size=batch_size, shuffle=True)\n",
        "\n",
        "samples_loader = sample_images(complete_dataset)\n",
        "\n",
        "\n",
        "def cos_similarity(samples_features):\n",
        "    \"\"\"\n",
        "    This function computes the cosine similarity matrix for 1280 sample features for each of the 14 classes\n",
        "    Output: Similarity matrix of 1280 sample features for each of the 14 classes\n",
        "    Tensor tensor([14, 1280, 1280])\n",
        "    \"\"\"\n",
        "    # TODO: implementation\n",
        "    return similarity_matrix\n",
        "\n",
        "from config import threshold_percentile\n",
        "def calc_similarity_threshold(samples, percentile=threshold_percentile):\n",
        "    \"\"\"\n",
        "    This function calculates a suitable similarity threshold value for the calc_rho_density function. \n",
        "    It takes the similarity value of the data point at the top 40% rank.\n",
        "    \"\"\"\n",
        "    # Flatten the matrix and sort the values\n",
        "    S_flat = samples.flatten()\n",
        "    S_sorted = np.sort(S_flat)\n",
        "\n",
        "    # Determine the index for the top 40% element\n",
        "    index = int(np.ceil(percentile / 100 * len(S_sorted)))\n",
        "\n",
        "    return S_sorted[index - 1]\n",
        "\n",
        "def calc_rho_densities(samples, similarity_matrix):\n",
        "    \"\"\"\n",
        "    This function computes the density of the images to determine \n",
        "    if they are diverse prototypes in the later stages of the programming.\n",
        "    Output: Densities of 1280 sample features for each of the 14 classes\n",
        "    Tensor tensor([14, 1280])\n",
        "    \"\"\"\n",
        "    # TODO: implementation\n",
        "    # sign(x) = 1 if x > 0; sign(x) = 0 if x = 0; otherwise sign(x) = −1\n",
        "    threshold = calc_similarity_threshold(samples)\n",
        "    return densities\n",
        "\n",
        "def calc_eta_similarity_measurement(samples, densities):\n",
        "    \"\"\"\n",
        "    This function computes the eta value, which describes the similarity measurement used to identify diverse and representative prototypes.\n",
        "    Output: The similarity measurement eta for each image\n",
        "    Tensor tensor([1280])\n",
        "    \"\"\"\n",
        "    for sample_id, sample in samples:\n",
        "        # load sample density\n",
        "        density = densities[sample_id]\n",
        "        max_density = max(density)\n",
        "        if density < max_density:\n",
        "            # eta = max sample similarity\n",
        "        else:\n",
        "            # eta = min sample similarity\n",
        "    return eta\n",
        "\n",
        "def select_prototypes(similarity_measurement, num_prototypes=num_prototypes):\n",
        "    \"\"\"\n",
        "    This function returns the 8 most divers and representative prototypes\n",
        "    \"\"\"\n",
        "    # find 8 highest similarity measures and return the corresponding features or images? TODO\n",
        "\n",
        "    # # previously:\n",
        "    # similarity_matrix = cosine_similarity(features)\n",
        "    # densities = (similarity_matrix > similarity_threshold).sum(axis=1)\n",
        "    # prototypes = []\n",
        "    # for c in np.unique(labels):\n",
        "    #     class_indices = np.where(labels == c)[0]\n",
        "    #     class_densities = densities[class_indices]\n",
        "    #     sorted_indices = class_indices[np.argsort(-class_densities)]\n",
        "    #     prototypes.append(sorted_indices[:num_prototypes])\n",
        "    # return np.concatenate(prototypes)\n",
        "\n",
        "    return prototypes\n",
        "\n",
        "from sklearn.metrics.pairwise import cosine_similarity\n",
        "def correct_labels(prototypes, inputs, labels):\n",
        "    \"\"\"\n",
        "    Function to correct labels based on prototypes\n",
        "    \"\"\"\n",
        "\n",
        "    return corrected_labels\n",
        "\n",
        "    # # previously:\n",
        "    # corrected_labels = []\n",
        "    # for feature in features:\n",
        "    #     similarities = cosine_similarity([feature], prototypes)[0]\n",
        "    #     class_similarities = np.zeros(np.max(prototype_labels) + 1)\n",
        "    #     for j, proto_label in enumerate(prototype_labels):\n",
        "    #         class_similarities[proto_label] += similarities[j]\n",
        "    #     corrected_labels.append(np.argmax(class_similarities))\n",
        "    # return np.array(corrected_labels)"
      ]
    },
    {
      "cell_type": "code",
      "execution_count": null,
      "metadata": {},
      "outputs": [],
      "source": [
        "def save_checkpoint(epoch, model, optimizer, scheduler, best_val_loss, epochs_no_improve, checkpoint_path):\n",
        "    checkpoint_path = os.path.join(checkpoint_path, f'checkpoint_epoch_{epoch}.pth')\n",
        "    torch.save({\n",
        "        'epoch': epoch,\n",
        "        'model_state_dict': model.state_dict(),\n",
        "        'optimizer_state_dict': optimizer.state_dict(),\n",
        "        'scheduler_state_dict': scheduler.state_dict(),\n",
        "        'best_val_loss': best_val_loss,\n",
        "        'epochs_no_improve': epochs_no_improve\n",
        "    }, checkpoint_path)\n",
        "    print(f'Checkpoint saved at epoch {epoch}')\n",
        "\n",
        "def load_checkpoint(model, optimizer, scheduler, checkpoint_path):\n",
        "    checkpoint = torch.load(checkpoint_path)\n",
        "    model.load_state_dict(checkpoint['model_state_dict'])\n",
        "    optimizer.load_state_dict(checkpoint['optimizer_state_dict'])\n",
        "    scheduler.load_state_dict(checkpoint['scheduler_state_dict'])\n",
        "    return checkpoint['epoch'], checkpoint['best_val_loss'], checkpoint['epochs_no_improve']"
      ]
    },
    {
      "cell_type": "code",
      "execution_count": null,
      "metadata": {
        "colab": {
          "background_save": true,
          "base_uri": "https://localhost:8080/"
        },
        "id": "2JgD78Wf_4IH",
        "outputId": "d033b206-fce6-44ec-d039-8f1429c04f3d"
      },
      "outputs": [
        {
          "name": "stdout",
          "output_type": "stream",
          "text": [
            "Epoch 1/15, Train Loss: 0.7485, Train Accuracy: 0.7680, Val Loss: 0.6389, Val Accuracy: 0.7987, Time: 1951.03 sec\n"
          ]
        }
      ],
      "source": [
        "import time\n",
        "from config import num_epochs, dataset_root, alpha, num_prototypes, randomly_samples_img_size, checkpoint_path\n",
        "from torch.utils.tensorboard import SummaryWriter\n",
        "\n",
        "# Initialize TensorBoard writer\n",
        "writer_path = dataset_root.replace(\"..\", \"/content\") + 'runs/resnet50_experiment'\n",
        "writer = SummaryWriter(writer_path)\n",
        "\n",
        "# Early stopping parameters\n",
        "patience = 5\n",
        "best_val_loss = float('inf')\n",
        "epochs_no_improve = 0\n",
        "early_stop = False\n",
        "\n",
        "# Load specific checkpoint if available\n",
        "start_epoch = 0\n",
        "current_checkpoint_path = os.path.join(checkpoint_path, f'checkpoint_epoch_{start_epoch}.pth')\n",
        "if os.path.exists(current_checkpoint_path):\n",
        "    start_epoch, best_val_loss, epochs_no_improve = load_checkpoint(model, optimizer, scheduler, current_checkpoint_path)\n",
        "    start_epoch += 1  # start from the next epoch\n",
        "    print(f'Resumed from checkpoint {current_checkpoint_path}')\n",
        "\n",
        "\n",
        "# 1. Train the Model\n",
        "for epoch in range(num_epochs):\n",
        "    model.train()  # Set model to training mode\n",
        "    epoch_start_time = time.time()  # Start time for the epoch\n",
        "\n",
        "    running_loss = 0.0\n",
        "    correct_predictions = 0\n",
        "    total_samples = 0\n",
        "\n",
        "    for inputs, labels in train_loader:\n",
        "        # Move input and label tensors to the device\n",
        "        inputs = inputs.to(device)\n",
        "        labels = labels.to(device)\n",
        "\n",
        "        # Zero out the optimizer\n",
        "        optimizer.zero_grad()\n",
        "\n",
        "        # Forward pass\n",
        "        outputs = model(inputs)\n",
        "        \n",
        "        # loss is computed differently in first epoch\n",
        "        if epoch == 0:\n",
        "            loss = criterion(outputs, labels)\n",
        "        else:\n",
        "            # get the pseudo_labels\n",
        "            pseudo_labels = correct_labels(prototypes, inputs, labels)\n",
        "            # calculate the loss on pseudo and original labels\n",
        "            loss = (1-alpha) * criterion(outputs, labels) + alpha * criterion(outputs, pseudo_labels)\n",
        "\n",
        "        # Backward pass\n",
        "        loss.backward()\n",
        "        optimizer.step()\n",
        "\n",
        "        running_loss += loss.item()\n",
        "        correct_predictions += calculate_accuracy(outputs, labels)\n",
        "        total_samples += labels.size(0)\n",
        "\n",
        "    epoch_duration = time.time() - epoch_start_time  # End time for the epoch\n",
        "    avg_loss = running_loss / len(train_loader)  # Average loss for the epoch\n",
        "    accuracy = correct_predictions / total_samples  # Accuracy for the epoch\n",
        "\n",
        "    # Log the training loss, accuracy, and duration to TensorBoard\n",
        "    writer.add_scalar('Loss/train', avg_loss, epoch)\n",
        "    writer.add_scalar('Accuracy/train', accuracy, epoch)\n",
        "    writer.add_scalar('Time/train', epoch_duration, epoch)\n",
        "\n",
        "    # Validate the model\n",
        "    val_loss, val_accuracy = evaluate_model(val_loader, model, criterion, device)\n",
        "    writer.add_scalar('Loss/val', val_loss, epoch)\n",
        "    writer.add_scalar('Accuracy/val', val_accuracy, epoch)\n",
        "\n",
        "    # Print the loss, accuracy, and time for every epoch\n",
        "    print(f'Epoch {epoch+1}/{num_epochs}, '\n",
        "          f'Train Loss: {avg_loss:.4f}, Train Accuracy: {accuracy:.4f}, '\n",
        "          f'Val Loss: {val_loss:.4f}, Val Accuracy: {val_accuracy:.4f}, '\n",
        "          f'Time: {epoch_duration:.2f} sec')\n",
        "\n",
        "    # Check for early stopping\n",
        "    if val_loss < best_val_loss:\n",
        "        best_val_loss = val_loss\n",
        "        epochs_no_improve = 0\n",
        "    else:\n",
        "        epochs_no_improve += 1\n",
        "        if epochs_no_improve >= patience:\n",
        "            print(f'Early stopping at epoch {epoch+1}')\n",
        "            early_stop = True\n",
        "\n",
        "    # Save checkpoint\n",
        "    save_checkpoint(epoch, model, optimizer, scheduler, best_val_loss, epochs_no_improve, checkpoint_path)\n",
        "\n",
        "    # Step the scheduler\n",
        "    scheduler.step()\n",
        "\n",
        "    # 2. Label Correction Phase (except in last iteration)\n",
        "    with torch.no_grad():\n",
        "        if epoch != num_epochs-1:\n",
        "            # 2.1 Prototype Selection\n",
        "            # Reset the features list\n",
        "            features = []\n",
        "            # sample m=1280 images for each class\n",
        "            samples = sample_images(train_dataset, randomly_samples_img_size).to(device)\n",
        "            # Create a data loader because of the large size of the samples\n",
        "            samples_loader = DataLoader(samples, batch_size=batch_size, shuffle=True)\n",
        "            # extract features of the samples with the hook (automatically in the feature variable)\n",
        "            model(samples)\n",
        "            samples_features = torch.cat(features, dim=0)\n",
        "            # should have a shape of torch.Size([1280, 2048, 1, 1])\n",
        "            # calculate similarity matrix of sample features\n",
        "            similarity_matrix = cos_similarity(samples_features)\n",
        "            # calculate density of images\n",
        "            densities = calc_rho_densities(samples, similarity_matrix)\n",
        "            # calculate similarity measurement \n",
        "            similarity_measurement = calc_eta_similarity_measurement(samples, densities)\n",
        "            # select 8 prototypes for each class\n",
        "            prototypes = select_prototypes(similarity_measurement, num_prototypes)\n",
        "\n",
        "#remove the hook\n",
        "hook.remove()\n",
        "print(f'Finished Training, Final Train Loss: {avg_loss:.4f}, Final Train Accuracy: {accuracy:.4f}')\n",
        "\n",
        "# Test the model\n",
        "test_loss, test_accuracy = evaluate_model(test_loader, model, criterion, device)\n",
        "writer.add_scalar('Loss/test', test_loss, 0)\n",
        "writer.add_scalar('Accuracy/test', test_accuracy, 0)\n",
        "print(f'Test Loss: {test_loss:.4f}, Test Accuracy: {test_accuracy:.4f}')\n",
        "\n",
        "# Close the TensorBoard writer\n",
        "writer.close()"
      ]
    },
    {
      "cell_type": "code",
      "execution_count": null,
      "metadata": {
        "id": "S6cOck_EUC_W"
      },
      "outputs": [],
      "source": [
        "from google.colab import files\n",
        "\n",
        "files.download(writer_path)"
      ]
    },
    {
      "cell_type": "code",
      "execution_count": null,
      "metadata": {
        "id": "NPuy_SP-8gM8"
      },
      "outputs": [],
      "source": [
        "# Save the trained model\n",
        "model_path = f'{dataset_root}models/resnet50_clothing1m.pth'\n",
        "torch.save(model.state_dict(), model_path)\n",
        "print(\"Model saved.\")"
      ]
    },
    {
      "cell_type": "code",
      "execution_count": null,
      "metadata": {
        "id": "eQHq98WETLkN"
      },
      "outputs": [],
      "source": [
        "from google.colab import files\n",
        "\n",
        "files.download(model_path)"
      ]
    },
    {
      "cell_type": "code",
      "execution_count": null,
      "metadata": {
        "id": "nH-194rSS4HT"
      },
      "outputs": [],
      "source": [
        "import os\n",
        "\n",
        "if os.path.isfile(model_path):\n",
        "    print(\"The file exists.\")\n",
        "else:\n",
        "    print(\"The file does not exist.\")"
      ]
    },
    {
      "cell_type": "markdown",
      "metadata": {
        "id": "LmSUgY5LJkr1"
      },
      "source": [
        "#### Evaluation"
      ]
    },
    {
      "cell_type": "code",
      "execution_count": null,
      "metadata": {
        "id": "Xs-Zu6n48gM8"
      },
      "outputs": [],
      "source": [
        "import torch\n",
        "from torchvision import models\n",
        "from torchviz import make_dot\n",
        "\n",
        "# Define the model (assuming you have already defined and loaded it as before)\n",
        "weights = models.ResNet50_Weights.IMAGENET1K_V1\n",
        "model = models.resnet50(weights=weights)\n",
        "num_ftrs = model.fc.in_features\n",
        "model.fc = torch.nn.Linear(num_ftrs, len(class_names))\n",
        "\n",
        "# Create a dummy input tensor with the same shape as your input data\n",
        "dummy_input = torch.randn(1, 3, 224, 224)\n",
        "\n",
        "# Perform a forward pass using the dummy input\n",
        "output = model(dummy_input)\n",
        "\n",
        "# Visualize the model\n",
        "dot = make_dot(output, params=dict(model.named_parameters()))\n",
        "dot.format = 'png'\n",
        "dot.render(f'{dataset_root}models/resnet50_model')\n",
        "\n",
        "# Display the model graph\n",
        "from IPython.display import Image\n",
        "Image(f'{dataset_root}models/resnet50_model.png')"
      ]
    },
    {
      "cell_type": "markdown",
      "metadata": {
        "id": "cFfLgWbug0-b"
      },
      "source": [
        "Evaluate models on validation data with accuracy, precision, recall, F1 score"
      ]
    },
    {
      "cell_type": "code",
      "execution_count": null,
      "metadata": {
        "id": "39KX4RCggv5n"
      },
      "outputs": [],
      "source": [
        "import torch\n",
        "import pandas as pd\n",
        "from sklearn.metrics import accuracy_score, precision_score, recall_score, f1_score\n",
        "\n",
        "# Load the model (assuming it's saved as a PyTorch model)\n",
        "model = torch.load(model_path)\n",
        "model.eval()  # Set the model to evaluation mode\n",
        "\n",
        "# Define a function to evaluate the model\n",
        "def evaluate_model(loader):\n",
        "    all_preds = []\n",
        "    all_labels = []\n",
        "    with torch.no_grad():\n",
        "        for images, labels in loader:\n",
        "            outputs = model(images)\n",
        "            _, preds = torch.max(outputs, 1)\n",
        "            all_preds.extend(preds.cpu().numpy())\n",
        "            all_labels.extend(labels.cpu().numpy())\n",
        "\n",
        "    accuracy = accuracy_score(all_labels, all_preds)\n",
        "    precision = precision_score(all_labels, all_preds, average='weighted')\n",
        "    recall = recall_score(all_labels, all_preds, average='weighted')\n",
        "    f1 = f1_score(all_labels, all_preds, average='weighted')\n",
        "\n",
        "    return accuracy, precision, recall, f1\n",
        "\n",
        "# Assuming val_loader and test_loader are defined and contain the data\n",
        "val_accuracy, val_precision, val_recall, val_f1 = evaluate_model(val_loader)\n",
        "test_accuracy, test_precision, test_recall, test_f1 = evaluate_model(test_loader)\n",
        "\n",
        "# Create a DataFrame to store the evaluation results\n",
        "evaluation_results = pd.DataFrame({\n",
        "    'Dataset': ['Validation', 'Test'],\n",
        "    'Accuracy': [val_accuracy, test_accuracy],\n",
        "    'Precision': [val_precision, test_precision],\n",
        "    'Recall': [val_recall, test_recall],\n",
        "    'F1 Score': [val_f1, test_f1]\n",
        "})\n",
        "\n",
        "# Export the evaluation results to a CSV file\n",
        "evaluation_results.to_csv(f'{dataset_root}models/model_evaluation_results.csv', index=False)\n",
        "\n",
        "print(\"Model evaluation completed and results exported.\")\n"
      ]
    },
    {
      "cell_type": "markdown",
      "metadata": {
        "id": "wORmA_46Jz9U"
      },
      "source": [
        "# To Do\n",
        "\n",
        "- handle class imbalance (oversampling, undersampling, or class weighting to balance the dataset)\n",
        "optional\n",
        "- Hyperparameter tuning to verify statements in the paper"
      ]
    }
  ],
  "metadata": {
    "accelerator": "GPU",
    "colab": {
      "gpuType": "L4",
      "machine_shape": "hm",
      "provenance": []
    },
    "kernelspec": {
      "display_name": "Python 3",
      "name": "python3"
    },
    "language_info": {
      "codemirror_mode": {
        "name": "ipython",
        "version": 3
      },
      "file_extension": ".py",
      "mimetype": "text/x-python",
      "name": "python",
      "nbconvert_exporter": "python",
      "pygments_lexer": "ipython3",
      "version": "3.10.8"
    }
  },
  "nbformat": 4,
  "nbformat_minor": 0
}
